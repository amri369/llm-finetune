{
 "cells": [
  {
   "cell_type": "code",
   "execution_count": null,
   "id": "initial_id",
   "metadata": {
    "collapsed": true
   },
   "outputs": [],
   "source": [
    "import sys\n",
    "\n",
    "sys.argv = [\n",
    "    'run_summarization.py',\n",
    "    '--model_name_or_path', 'google-t5/t5-small',\n",
    "    '--dataset_name', 'cnn_dailymail',\n",
    "    '--dataset_config_name', '3.0.0',\n",
    "    '--source_prefix', 'summarize: ',\n",
    "    '--output_dir', './t5-summarization',\n",
    "    '--do_train',\n",
    "    '--do_eval',\n",
    "    '--per_device_train_batch_size', '4',\n",
    "    '--per_device_eval_batch_size', '4',\n",
    "    '--num_train_epochs', '1',\n",
    "    '--max_train_samples', '1000',\n",
    "    '--max_eval_samples', '100',\n",
    "    '--learning_rate', '5e-5',\n",
    "    '--save_strategy', 'epoch',\n",
    "    '--predict_with_generate',\n",
    "    '--logging_steps', '50',\n",
    "    '--overwrite_output_dir'\n",
    "]\n",
    "\n",
    "\n",
    "from train_summarizatio import main\n",
    "results = main()"
   ]
  },
  {
   "metadata": {},
   "cell_type": "code",
   "outputs": [],
   "execution_count": null,
   "source": [
    "import sys\n",
    "\n",
    "sys.argv = [\n",
    "    'run_summarization.py',\n",
    "    '--model_name_or_path', './t5-summarization/checkpoint-250',  # Your checkpoint\n",
    "    '--dataset_name', 'cnn_dailymail',\n",
    "    '--dataset_config_name', '3.0.0',\n",
    "    '--source_prefix', 'summarize: ',\n",
    "    '--output_dir', './test-results',\n",
    "    '--do_predict',\n",
    "    '--per_device_eval_batch_size', '8',\n",
    "    '--predict_with_generate',\n",
    "    '--max_source_length', '512',\n",
    "    '--max_target_length', '128',\n",
    "    '--num_beams', '4',\n",
    "    '--max_predict_samples', '1000',\n",
    "]\n",
    "\n",
    "results = main()"
   ],
   "id": "e7543ccc287b5316"
  }
 ],
 "metadata": {
  "kernelspec": {
   "display_name": "Python 3",
   "language": "python",
   "name": "python3"
  },
  "language_info": {
   "codemirror_mode": {
    "name": "ipython",
    "version": 2
   },
   "file_extension": ".py",
   "mimetype": "text/x-python",
   "name": "python",
   "nbconvert_exporter": "python",
   "pygments_lexer": "ipython2",
   "version": "2.7.6"
  }
 },
 "nbformat": 4,
 "nbformat_minor": 5
}
